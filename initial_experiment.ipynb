{
 "cells": [
  {
   "cell_type": "code",
   "execution_count": 1,
   "id": "initial_id",
   "metadata": {
    "collapsed": true,
    "ExecuteTime": {
     "end_time": "2024-01-03T12:41:51.496820300Z",
     "start_time": "2024-01-03T12:41:51.004326100Z"
    }
   },
   "outputs": [
    {
     "data": {
      "text/plain": "       Day  Start Hour  region  requests  predicted_requests  \\\n73267    0          11     2.0       0.0                 0.0   \n73268    0          11     3.0       0.0                 0.0   \n73269    0          11     4.0       0.0                 0.0   \n73270    0          11     5.0       0.0                 0.0   \n73271    0          11     6.0       0.0                 0.0   \n73272    0          11     7.0       0.0                 0.0   \n73273    0          11     8.0       0.0                 0.0   \n73274    0          11    10.0       0.0                 0.0   \n73275    0          11    11.0       0.0                 0.0   \n73276    0          11    14.0       0.0                 0.0   \n73277    0          11    15.0       5.0                 1.0   \n73278    0          11    16.0       2.0                 5.0   \n73279    0          11    17.0       2.0                 2.0   \n73280    0          11    18.0       1.0                 1.0   \n73281    0          11    19.0       5.0                 3.0   \n73282    0          11    20.0       1.0                 3.0   \n73283    0          11    21.0       3.0                 3.0   \n73284    0          11    22.0      65.0                72.0   \n73285    0          11    23.0       4.0                 2.0   \n73286    0          11    24.0     216.0               188.0   \n73287    0          11    25.0       8.0                 9.0   \n73288    0          11    26.0       0.0                 0.0   \n73289    0          11    27.0       0.0                 0.0   \n73290    0          11    28.0     143.0                96.0   \n73291    0          11    29.0       0.0                 0.0   \n73292    0          11    30.0       0.0                 0.0   \n73293    0          11    31.0      16.0                11.0   \n73294    0          11    32.0       0.0                 0.0   \n73295    0          11    33.0       0.0                 0.0   \n73296    0          11    34.0       0.0                 0.0   \n73297    0          11    39.0       0.0                 0.0   \n73298    0          11    42.0       0.0                 0.0   \n73299    0          11    56.0       0.0                 0.0   \n73300    0          11    57.0       0.0                 0.0   \n73301    0          11    58.0       0.0                 0.0   \n73302    0          11    59.0       0.0                 0.0   \n73303    0          11    60.0       0.0                 0.0   \n73304    0          11    61.0       0.0                 0.0   \n73305    0          11    63.0       0.0                 0.0   \n73306    0          11    66.0       0.0                 0.0   \n73307    0          11    67.0       0.0                 0.0   \n\n       available_scooters  \n73267                 5.0  \n73268                 5.0  \n73269                 5.0  \n73270                 5.0  \n73271                 5.0  \n73272                 5.0  \n73273                 5.0  \n73274                 5.0  \n73275                 5.0  \n73276                 5.0  \n73277                21.0  \n73278                 9.0  \n73279                 2.0  \n73280                 8.0  \n73281                30.0  \n73282                63.0  \n73283                18.0  \n73284                56.0  \n73285                 5.0  \n73286                63.0  \n73287                45.0  \n73288                 5.0  \n73289                 5.0  \n73290               194.0  \n73291                 5.0  \n73292                 5.0  \n73293                28.0  \n73294                 5.0  \n73295                 5.0  \n73296                 5.0  \n73297                 5.0  \n73298                 5.0  \n73299                 5.0  \n73300                 5.0  \n73301                 5.0  \n73302                 5.0  \n73303                 5.0  \n73304                 5.0  \n73305                 5.0  \n73306                 5.0  \n73307                 5.0  ",
      "text/html": "<div>\n<style scoped>\n    .dataframe tbody tr th:only-of-type {\n        vertical-align: middle;\n    }\n\n    .dataframe tbody tr th {\n        vertical-align: top;\n    }\n\n    .dataframe thead th {\n        text-align: right;\n    }\n</style>\n<table border=\"1\" class=\"dataframe\">\n  <thead>\n    <tr style=\"text-align: right;\">\n      <th></th>\n      <th>Day</th>\n      <th>Start Hour</th>\n      <th>region</th>\n      <th>requests</th>\n      <th>predicted_requests</th>\n      <th>available_scooters</th>\n    </tr>\n  </thead>\n  <tbody>\n    <tr>\n      <th>73267</th>\n      <td>0</td>\n      <td>11</td>\n      <td>2.0</td>\n      <td>0.0</td>\n      <td>0.0</td>\n      <td>5.0</td>\n    </tr>\n    <tr>\n      <th>73268</th>\n      <td>0</td>\n      <td>11</td>\n      <td>3.0</td>\n      <td>0.0</td>\n      <td>0.0</td>\n      <td>5.0</td>\n    </tr>\n    <tr>\n      <th>73269</th>\n      <td>0</td>\n      <td>11</td>\n      <td>4.0</td>\n      <td>0.0</td>\n      <td>0.0</td>\n      <td>5.0</td>\n    </tr>\n    <tr>\n      <th>73270</th>\n      <td>0</td>\n      <td>11</td>\n      <td>5.0</td>\n      <td>0.0</td>\n      <td>0.0</td>\n      <td>5.0</td>\n    </tr>\n    <tr>\n      <th>73271</th>\n      <td>0</td>\n      <td>11</td>\n      <td>6.0</td>\n      <td>0.0</td>\n      <td>0.0</td>\n      <td>5.0</td>\n    </tr>\n    <tr>\n      <th>73272</th>\n      <td>0</td>\n      <td>11</td>\n      <td>7.0</td>\n      <td>0.0</td>\n      <td>0.0</td>\n      <td>5.0</td>\n    </tr>\n    <tr>\n      <th>73273</th>\n      <td>0</td>\n      <td>11</td>\n      <td>8.0</td>\n      <td>0.0</td>\n      <td>0.0</td>\n      <td>5.0</td>\n    </tr>\n    <tr>\n      <th>73274</th>\n      <td>0</td>\n      <td>11</td>\n      <td>10.0</td>\n      <td>0.0</td>\n      <td>0.0</td>\n      <td>5.0</td>\n    </tr>\n    <tr>\n      <th>73275</th>\n      <td>0</td>\n      <td>11</td>\n      <td>11.0</td>\n      <td>0.0</td>\n      <td>0.0</td>\n      <td>5.0</td>\n    </tr>\n    <tr>\n      <th>73276</th>\n      <td>0</td>\n      <td>11</td>\n      <td>14.0</td>\n      <td>0.0</td>\n      <td>0.0</td>\n      <td>5.0</td>\n    </tr>\n    <tr>\n      <th>73277</th>\n      <td>0</td>\n      <td>11</td>\n      <td>15.0</td>\n      <td>5.0</td>\n      <td>1.0</td>\n      <td>21.0</td>\n    </tr>\n    <tr>\n      <th>73278</th>\n      <td>0</td>\n      <td>11</td>\n      <td>16.0</td>\n      <td>2.0</td>\n      <td>5.0</td>\n      <td>9.0</td>\n    </tr>\n    <tr>\n      <th>73279</th>\n      <td>0</td>\n      <td>11</td>\n      <td>17.0</td>\n      <td>2.0</td>\n      <td>2.0</td>\n      <td>2.0</td>\n    </tr>\n    <tr>\n      <th>73280</th>\n      <td>0</td>\n      <td>11</td>\n      <td>18.0</td>\n      <td>1.0</td>\n      <td>1.0</td>\n      <td>8.0</td>\n    </tr>\n    <tr>\n      <th>73281</th>\n      <td>0</td>\n      <td>11</td>\n      <td>19.0</td>\n      <td>5.0</td>\n      <td>3.0</td>\n      <td>30.0</td>\n    </tr>\n    <tr>\n      <th>73282</th>\n      <td>0</td>\n      <td>11</td>\n      <td>20.0</td>\n      <td>1.0</td>\n      <td>3.0</td>\n      <td>63.0</td>\n    </tr>\n    <tr>\n      <th>73283</th>\n      <td>0</td>\n      <td>11</td>\n      <td>21.0</td>\n      <td>3.0</td>\n      <td>3.0</td>\n      <td>18.0</td>\n    </tr>\n    <tr>\n      <th>73284</th>\n      <td>0</td>\n      <td>11</td>\n      <td>22.0</td>\n      <td>65.0</td>\n      <td>72.0</td>\n      <td>56.0</td>\n    </tr>\n    <tr>\n      <th>73285</th>\n      <td>0</td>\n      <td>11</td>\n      <td>23.0</td>\n      <td>4.0</td>\n      <td>2.0</td>\n      <td>5.0</td>\n    </tr>\n    <tr>\n      <th>73286</th>\n      <td>0</td>\n      <td>11</td>\n      <td>24.0</td>\n      <td>216.0</td>\n      <td>188.0</td>\n      <td>63.0</td>\n    </tr>\n    <tr>\n      <th>73287</th>\n      <td>0</td>\n      <td>11</td>\n      <td>25.0</td>\n      <td>8.0</td>\n      <td>9.0</td>\n      <td>45.0</td>\n    </tr>\n    <tr>\n      <th>73288</th>\n      <td>0</td>\n      <td>11</td>\n      <td>26.0</td>\n      <td>0.0</td>\n      <td>0.0</td>\n      <td>5.0</td>\n    </tr>\n    <tr>\n      <th>73289</th>\n      <td>0</td>\n      <td>11</td>\n      <td>27.0</td>\n      <td>0.0</td>\n      <td>0.0</td>\n      <td>5.0</td>\n    </tr>\n    <tr>\n      <th>73290</th>\n      <td>0</td>\n      <td>11</td>\n      <td>28.0</td>\n      <td>143.0</td>\n      <td>96.0</td>\n      <td>194.0</td>\n    </tr>\n    <tr>\n      <th>73291</th>\n      <td>0</td>\n      <td>11</td>\n      <td>29.0</td>\n      <td>0.0</td>\n      <td>0.0</td>\n      <td>5.0</td>\n    </tr>\n    <tr>\n      <th>73292</th>\n      <td>0</td>\n      <td>11</td>\n      <td>30.0</td>\n      <td>0.0</td>\n      <td>0.0</td>\n      <td>5.0</td>\n    </tr>\n    <tr>\n      <th>73293</th>\n      <td>0</td>\n      <td>11</td>\n      <td>31.0</td>\n      <td>16.0</td>\n      <td>11.0</td>\n      <td>28.0</td>\n    </tr>\n    <tr>\n      <th>73294</th>\n      <td>0</td>\n      <td>11</td>\n      <td>32.0</td>\n      <td>0.0</td>\n      <td>0.0</td>\n      <td>5.0</td>\n    </tr>\n    <tr>\n      <th>73295</th>\n      <td>0</td>\n      <td>11</td>\n      <td>33.0</td>\n      <td>0.0</td>\n      <td>0.0</td>\n      <td>5.0</td>\n    </tr>\n    <tr>\n      <th>73296</th>\n      <td>0</td>\n      <td>11</td>\n      <td>34.0</td>\n      <td>0.0</td>\n      <td>0.0</td>\n      <td>5.0</td>\n    </tr>\n    <tr>\n      <th>73297</th>\n      <td>0</td>\n      <td>11</td>\n      <td>39.0</td>\n      <td>0.0</td>\n      <td>0.0</td>\n      <td>5.0</td>\n    </tr>\n    <tr>\n      <th>73298</th>\n      <td>0</td>\n      <td>11</td>\n      <td>42.0</td>\n      <td>0.0</td>\n      <td>0.0</td>\n      <td>5.0</td>\n    </tr>\n    <tr>\n      <th>73299</th>\n      <td>0</td>\n      <td>11</td>\n      <td>56.0</td>\n      <td>0.0</td>\n      <td>0.0</td>\n      <td>5.0</td>\n    </tr>\n    <tr>\n      <th>73300</th>\n      <td>0</td>\n      <td>11</td>\n      <td>57.0</td>\n      <td>0.0</td>\n      <td>0.0</td>\n      <td>5.0</td>\n    </tr>\n    <tr>\n      <th>73301</th>\n      <td>0</td>\n      <td>11</td>\n      <td>58.0</td>\n      <td>0.0</td>\n      <td>0.0</td>\n      <td>5.0</td>\n    </tr>\n    <tr>\n      <th>73302</th>\n      <td>0</td>\n      <td>11</td>\n      <td>59.0</td>\n      <td>0.0</td>\n      <td>0.0</td>\n      <td>5.0</td>\n    </tr>\n    <tr>\n      <th>73303</th>\n      <td>0</td>\n      <td>11</td>\n      <td>60.0</td>\n      <td>0.0</td>\n      <td>0.0</td>\n      <td>5.0</td>\n    </tr>\n    <tr>\n      <th>73304</th>\n      <td>0</td>\n      <td>11</td>\n      <td>61.0</td>\n      <td>0.0</td>\n      <td>0.0</td>\n      <td>5.0</td>\n    </tr>\n    <tr>\n      <th>73305</th>\n      <td>0</td>\n      <td>11</td>\n      <td>63.0</td>\n      <td>0.0</td>\n      <td>0.0</td>\n      <td>5.0</td>\n    </tr>\n    <tr>\n      <th>73306</th>\n      <td>0</td>\n      <td>11</td>\n      <td>66.0</td>\n      <td>0.0</td>\n      <td>0.0</td>\n      <td>5.0</td>\n    </tr>\n    <tr>\n      <th>73307</th>\n      <td>0</td>\n      <td>11</td>\n      <td>67.0</td>\n      <td>0.0</td>\n      <td>0.0</td>\n      <td>5.0</td>\n    </tr>\n  </tbody>\n</table>\n</div>"
     },
     "execution_count": 1,
     "metadata": {},
     "output_type": "execute_result"
    }
   ],
   "source": [
    "import pandas as pd\n",
    "\n",
    "df = pd.read_csv('experiment_data.csv')\n",
    "df.rename({'Start Community Area Number': 'region'}, inplace=True, axis=1)\n",
    "single_step = df[(df['Day'] == 0) & (df['Start Hour'] == 11)]\n",
    "single_step"
   ]
  },
  {
   "cell_type": "code",
   "execution_count": 2,
   "outputs": [
    {
     "ename": "TypeError",
     "evalue": "only length-1 arrays can be converted to Python scalars",
     "output_type": "error",
     "traceback": [
      "\u001B[1;31m---------------------------------------------------------------------------\u001B[0m",
      "\u001B[1;31mTypeError\u001B[0m                                 Traceback (most recent call last)",
      "Cell \u001B[1;32mIn[2], line 4\u001B[0m\n\u001B[0;32m      1\u001B[0m \u001B[38;5;28;01mfrom\u001B[39;00m \u001B[38;5;21;01mPPricing3\u001B[39;00m \u001B[38;5;28;01mimport\u001B[39;00m PPricing\n\u001B[0;32m      3\u001B[0m pricing \u001B[38;5;241m=\u001B[39m PPricing()\n\u001B[1;32m----> 4\u001B[0m \u001B[43mpricing\u001B[49m\u001B[38;5;241;43m.\u001B[39;49m\u001B[43mp_pricing\u001B[49m\u001B[43m(\u001B[49m\u001B[38;5;241;43m0\u001B[39;49m\u001B[43m,\u001B[49m\u001B[43m \u001B[49m\u001B[43msingle_step\u001B[49m\u001B[43m[\u001B[49m\u001B[43m[\u001B[49m\u001B[38;5;124;43m'\u001B[39;49m\u001B[38;5;124;43mregion\u001B[39;49m\u001B[38;5;124;43m'\u001B[39;49m\u001B[43m,\u001B[49m\u001B[43m \u001B[49m\u001B[38;5;124;43m'\u001B[39;49m\u001B[38;5;124;43mrequests\u001B[39;49m\u001B[38;5;124;43m'\u001B[39;49m\u001B[43m,\u001B[49m\u001B[43m \u001B[49m\u001B[38;5;124;43m'\u001B[39;49m\u001B[38;5;124;43mpredicted_requests\u001B[39;49m\u001B[38;5;124;43m'\u001B[39;49m\u001B[43m,\u001B[49m\u001B[43m \u001B[49m\u001B[38;5;124;43m'\u001B[39;49m\u001B[38;5;124;43mavailable_scooters\u001B[39;49m\u001B[38;5;124;43m'\u001B[39;49m\u001B[43m]\u001B[49m\u001B[43m]\u001B[49m\u001B[38;5;241;43m.\u001B[39;49m\u001B[43mvalues\u001B[49m\u001B[43m)\u001B[49m\n",
      "File \u001B[1;32m~\\OneDrive - Universiteit Leiden\\uc\\Project\\PPricing3.py:176\u001B[0m, in \u001B[0;36mPPricing.p_pricing\u001B[1;34m(self, t, supply_demand)\u001B[0m\n\u001B[0;32m    173\u001B[0m \u001B[38;5;28mself\u001B[39m\u001B[38;5;241m.\u001B[39mpredicted_requests \u001B[38;5;241m=\u001B[39m supply_demand[:, \u001B[38;5;241m2\u001B[39m]\n\u001B[0;32m    174\u001B[0m \u001B[38;5;28mself\u001B[39m\u001B[38;5;241m.\u001B[39mtransition_matrix \u001B[38;5;241m=\u001B[39m transition_matrix\n\u001B[1;32m--> 176\u001B[0m \u001B[38;5;28;43mself\u001B[39;49m\u001B[38;5;241;43m.\u001B[39;49m\u001B[43m_calc_next_supply_demand_df\u001B[49m\u001B[43m(\u001B[49m\u001B[43mtransition_matrix\u001B[49m\u001B[43m,\u001B[49m\u001B[43m \u001B[49m\u001B[43msupply_demand\u001B[49m\u001B[43m,\u001B[49m\u001B[43m \u001B[49m\u001B[43mt\u001B[49m\u001B[43m)\u001B[49m\n\u001B[0;32m    178\u001B[0m optimal_delta_T, optimal_delta_V \u001B[38;5;241m=\u001B[39m \u001B[38;5;28mself\u001B[39m\u001B[38;5;241m.\u001B[39m_optimize_solve()\n\u001B[0;32m    179\u001B[0m \u001B[38;5;28;01mreturn\u001B[39;00m \u001B[38;5;28mself\u001B[39m\u001B[38;5;241m.\u001B[39m_calc_optimal_price(optimal_delta_T)\n",
      "File \u001B[1;32m~\\OneDrive - Universiteit Leiden\\uc\\Project\\PPricing3.py:109\u001B[0m, in \u001B[0;36mPPricing._calc_next_supply_demand_df\u001B[1;34m(self, transition_matrix, supply_demand, t)\u001B[0m\n\u001B[0;32m    107\u001B[0m supply \u001B[38;5;241m=\u001B[39m \u001B[38;5;28mself\u001B[39m\u001B[38;5;241m.\u001B[39m_calc_supply(supply_demand[:, \u001B[38;5;241m3\u001B[39m], t)\n\u001B[0;32m    108\u001B[0m total_trips_t \u001B[38;5;241m=\u001B[39m \u001B[38;5;28mself\u001B[39m\u001B[38;5;241m.\u001B[39m_calc_trips_amount(demand, supply)\n\u001B[1;32m--> 109\u001B[0m added_scooters \u001B[38;5;241m=\u001B[39m np\u001B[38;5;241m.\u001B[39msum(\u001B[38;5;28;43mint\u001B[39;49m\u001B[43m(\u001B[49m\u001B[43mtransition_matrix\u001B[49m\u001B[43m \u001B[49m\u001B[38;5;241;43m*\u001B[39;49m\u001B[43m \u001B[49m\u001B[43mtotal_trips_t\u001B[49m\u001B[43m[\u001B[49m\u001B[43m:\u001B[49m\u001B[43m,\u001B[49m\u001B[43m \u001B[49m\u001B[38;5;28;43;01mNone\u001B[39;49;00m\u001B[43m]\u001B[49m\u001B[43m)\u001B[49m, axis\u001B[38;5;241m=\u001B[39m\u001B[38;5;241m1\u001B[39m)\n\u001B[0;32m    110\u001B[0m unused_scooters \u001B[38;5;241m=\u001B[39m supply \u001B[38;5;241m-\u001B[39m total_trips_t\n\u001B[0;32m    111\u001B[0m \u001B[38;5;28mprint\u001B[39m(added_scooters)\n",
      "\u001B[1;31mTypeError\u001B[0m: only length-1 arrays can be converted to Python scalars"
     ]
    }
   ],
   "source": [
    "from PPricing3 import PPricing\n",
    "\n",
    "pricing = PPricing()\n",
    "pricing.p_pricing(0, single_step[['region', 'requests', 'predicted_requests', 'available_scooters']].values)"
   ],
   "metadata": {
    "collapsed": false,
    "ExecuteTime": {
     "end_time": "2024-01-03T12:41:52.792848300Z",
     "start_time": "2024-01-03T12:41:51.502618200Z"
    }
   },
   "id": "d833aa208ee25041"
  }
 ],
 "metadata": {
  "kernelspec": {
   "display_name": "Python 3",
   "language": "python",
   "name": "python3"
  },
  "language_info": {
   "codemirror_mode": {
    "name": "ipython",
    "version": 2
   },
   "file_extension": ".py",
   "mimetype": "text/x-python",
   "name": "python",
   "nbconvert_exporter": "python",
   "pygments_lexer": "ipython2",
   "version": "2.7.6"
  }
 },
 "nbformat": 4,
 "nbformat_minor": 5
}
