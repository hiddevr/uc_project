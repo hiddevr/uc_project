{
 "cells": [
  {
   "cell_type": "code",
   "execution_count": 21,
   "id": "initial_id",
   "metadata": {
    "collapsed": true,
    "ExecuteTime": {
     "end_time": "2024-01-03T14:18:45.239879500Z",
     "start_time": "2024-01-03T14:18:42.575341900Z"
    }
   },
   "outputs": [
    {
     "data": {
      "text/plain": "                                     Trip ID              Start Time  \\\n10291   0dd95046-1bc8-4464-ba39-7f9e92c668b3  08/06/2019 06:00:00 PM   \n10293   6819df6a-9623-4ae0-b1d3-ec617197d229  07/08/2019 04:00:00 PM   \n10342   aa71bb53-3e7f-4964-b6e6-030800419346  08/10/2019 09:00:00 PM   \n10367   5d256770-1a8a-5e20-8f78-316d1819f46b  06/25/2019 07:00:00 PM   \n10369   dffe5324-5f6f-48e7-9edf-d51876ba7d2f  09/19/2019 08:00:00 AM   \n...                                      ...                     ...   \n710834  536f855f-2530-4c07-b93e-4de52e75cf1b  09/06/2019 07:00:00 AM   \n710835  88721836-1a6c-4ae6-b320-8e9ce1861d16  07/11/2019 11:00:00 AM   \n710836  3f930717-06cf-499d-b390-a45282851347  09/17/2019 05:00:00 PM   \n710837  11d01331-0a12-607e-11d0-13310a12607e  06/21/2019 05:00:00 PM   \n710838  196fd7ca-f66e-4540-b1c1-5977b491216c  08/13/2019 02:00:00 PM   \n\n                      End Time  Trip Distance  Trip Duration  Accuracy  \\\n10291   08/06/2019 06:00:00 PM           1004            236       152   \n10293   07/08/2019 05:00:00 PM           9124           3182        10   \n10342   08/10/2019 09:00:00 PM            502             97       152   \n10367   06/25/2019 08:00:00 PM           5053           2167         0   \n10369   09/19/2019 08:00:00 AM            790            111       152   \n...                        ...            ...            ...       ...   \n710834  09/06/2019 07:00:00 AM           2524            500        10   \n710835  07/11/2019 11:00:00 AM           2475            480        10   \n710836  09/17/2019 05:00:00 PM           2228            590        10   \n710837  06/21/2019 05:00:00 PM           1303           1088        10   \n710838  08/13/2019 02:00:00 PM           1777            372        10   \n\n        Start Census Tract  End Census Tract  Start Community Area Number  \\\n10291         1.703120e+10      1.703120e+10                         20.0   \n10293         1.703115e+10      1.703119e+10                         15.0   \n10342         1.703184e+10      1.703184e+10                         27.0   \n10367         1.703122e+10      1.703119e+10                         22.0   \n10369         1.703119e+10      1.703120e+10                         19.0   \n...                    ...               ...                          ...   \n710834                 NaN               NaN                         19.0   \n710835                 NaN               NaN                         20.0   \n710836                 NaN               NaN                         19.0   \n710837                 NaN               NaN                         19.0   \n710838                 NaN               NaN                         19.0   \n\n        End Community Area Number Start Community Area Name  \\\n10291                        20.0                   HERMOSA   \n10293                        19.0              PORTAGE PARK   \n10342                        27.0        EAST GARFIELD PARK   \n10367                        19.0              LOGAN SQUARE   \n10369                        20.0            BELMONT CRAGIN   \n...                           ...                       ...   \n710834                       19.0            BELMONT CRAGIN   \n710835                       19.0                   HERMOSA   \n710836                       19.0            BELMONT CRAGIN   \n710837                       19.0            BELMONT CRAGIN   \n710838                       19.0            BELMONT CRAGIN   \n\n       End Community Area Name  Start Centroid Latitude  \\\n10291                  HERMOSA                41.935048   \n10293           BELMONT CRAGIN                41.949592   \n10342       EAST GARFIELD PARK                41.885045   \n10367           BELMONT CRAGIN                41.921126   \n10369                  HERMOSA                41.935218   \n...                        ...                      ...   \n710834          BELMONT CRAGIN                41.927261   \n710835          BELMONT CRAGIN                41.924348   \n710836          BELMONT CRAGIN                41.927261   \n710837          BELMONT CRAGIN                41.927261   \n710838          BELMONT CRAGIN                41.927261   \n\n        Start Centroid Longitude                      Start Centroid Location  \\\n10291                 -87.737604   POINT (-87.7376041954734 41.9350481285613)   \n10293                 -87.761958   POINT (-87.7619580301513 41.9495915671753)   \n10342                 -87.713862  POINT (-87.71386248059811 41.8850448415253)   \n10367                 -87.699754   POINT (-87.6997540616386 41.9211256768265)   \n10369                 -87.744389   POINT (-87.7443888733072 41.9352176386575)   \n...                          ...                                          ...   \n710834                -87.765502   POINT (-87.7655018368979 41.9272607415187)   \n710835                -87.734740   POINT (-87.7347401601846 41.9243477570064)   \n710836                -87.765502   POINT (-87.7655018368979 41.9272607415187)   \n710837                -87.765502   POINT (-87.7655018368979 41.9272607415187)   \n710838                -87.765502   POINT (-87.7655018368979 41.9272607415187)   \n\n        End Centroid Latitude  End Centroid Longitude  \\\n10291               41.935048              -87.737604   \n10293               41.920143              -87.760827   \n10342               41.885045              -87.713862   \n10367               41.927819              -87.751362   \n10369               41.927852              -87.735628   \n...                       ...                     ...   \n710834              41.927261              -87.765502   \n710835              41.927261              -87.765502   \n710836              41.927261              -87.765502   \n710837              41.927261              -87.765502   \n710838              41.927261              -87.765502   \n\n                              End Centroid Location  \n10291    POINT (-87.7376041954734 41.9350481285613)  \n10293     POINT (-87.7608269556143 41.920143229102)  \n10342   POINT (-87.71386248059811 41.8850448415253)  \n10367    POINT (-87.7513623675995 41.9278186319205)  \n10369    POINT (-87.7356282729632 41.9278522690551)  \n...                                             ...  \n710834   POINT (-87.7655018368979 41.9272607415187)  \n710835   POINT (-87.7655018368979 41.9272607415187)  \n710836   POINT (-87.7655018368979 41.9272607415187)  \n710837   POINT (-87.7655018368979 41.9272607415187)  \n710838   POINT (-87.7655018368979 41.9272607415187)  \n\n[612570 rows x 18 columns]",
      "text/html": "<div>\n<style scoped>\n    .dataframe tbody tr th:only-of-type {\n        vertical-align: middle;\n    }\n\n    .dataframe tbody tr th {\n        vertical-align: top;\n    }\n\n    .dataframe thead th {\n        text-align: right;\n    }\n</style>\n<table border=\"1\" class=\"dataframe\">\n  <thead>\n    <tr style=\"text-align: right;\">\n      <th></th>\n      <th>Trip ID</th>\n      <th>Start Time</th>\n      <th>End Time</th>\n      <th>Trip Distance</th>\n      <th>Trip Duration</th>\n      <th>Accuracy</th>\n      <th>Start Census Tract</th>\n      <th>End Census Tract</th>\n      <th>Start Community Area Number</th>\n      <th>End Community Area Number</th>\n      <th>Start Community Area Name</th>\n      <th>End Community Area Name</th>\n      <th>Start Centroid Latitude</th>\n      <th>Start Centroid Longitude</th>\n      <th>Start Centroid Location</th>\n      <th>End Centroid Latitude</th>\n      <th>End Centroid Longitude</th>\n      <th>End Centroid Location</th>\n    </tr>\n  </thead>\n  <tbody>\n    <tr>\n      <th>10291</th>\n      <td>0dd95046-1bc8-4464-ba39-7f9e92c668b3</td>\n      <td>08/06/2019 06:00:00 PM</td>\n      <td>08/06/2019 06:00:00 PM</td>\n      <td>1004</td>\n      <td>236</td>\n      <td>152</td>\n      <td>1.703120e+10</td>\n      <td>1.703120e+10</td>\n      <td>20.0</td>\n      <td>20.0</td>\n      <td>HERMOSA</td>\n      <td>HERMOSA</td>\n      <td>41.935048</td>\n      <td>-87.737604</td>\n      <td>POINT (-87.7376041954734 41.9350481285613)</td>\n      <td>41.935048</td>\n      <td>-87.737604</td>\n      <td>POINT (-87.7376041954734 41.9350481285613)</td>\n    </tr>\n    <tr>\n      <th>10293</th>\n      <td>6819df6a-9623-4ae0-b1d3-ec617197d229</td>\n      <td>07/08/2019 04:00:00 PM</td>\n      <td>07/08/2019 05:00:00 PM</td>\n      <td>9124</td>\n      <td>3182</td>\n      <td>10</td>\n      <td>1.703115e+10</td>\n      <td>1.703119e+10</td>\n      <td>15.0</td>\n      <td>19.0</td>\n      <td>PORTAGE PARK</td>\n      <td>BELMONT CRAGIN</td>\n      <td>41.949592</td>\n      <td>-87.761958</td>\n      <td>POINT (-87.7619580301513 41.9495915671753)</td>\n      <td>41.920143</td>\n      <td>-87.760827</td>\n      <td>POINT (-87.7608269556143 41.920143229102)</td>\n    </tr>\n    <tr>\n      <th>10342</th>\n      <td>aa71bb53-3e7f-4964-b6e6-030800419346</td>\n      <td>08/10/2019 09:00:00 PM</td>\n      <td>08/10/2019 09:00:00 PM</td>\n      <td>502</td>\n      <td>97</td>\n      <td>152</td>\n      <td>1.703184e+10</td>\n      <td>1.703184e+10</td>\n      <td>27.0</td>\n      <td>27.0</td>\n      <td>EAST GARFIELD PARK</td>\n      <td>EAST GARFIELD PARK</td>\n      <td>41.885045</td>\n      <td>-87.713862</td>\n      <td>POINT (-87.71386248059811 41.8850448415253)</td>\n      <td>41.885045</td>\n      <td>-87.713862</td>\n      <td>POINT (-87.71386248059811 41.8850448415253)</td>\n    </tr>\n    <tr>\n      <th>10367</th>\n      <td>5d256770-1a8a-5e20-8f78-316d1819f46b</td>\n      <td>06/25/2019 07:00:00 PM</td>\n      <td>06/25/2019 08:00:00 PM</td>\n      <td>5053</td>\n      <td>2167</td>\n      <td>0</td>\n      <td>1.703122e+10</td>\n      <td>1.703119e+10</td>\n      <td>22.0</td>\n      <td>19.0</td>\n      <td>LOGAN SQUARE</td>\n      <td>BELMONT CRAGIN</td>\n      <td>41.921126</td>\n      <td>-87.699754</td>\n      <td>POINT (-87.6997540616386 41.9211256768265)</td>\n      <td>41.927819</td>\n      <td>-87.751362</td>\n      <td>POINT (-87.7513623675995 41.9278186319205)</td>\n    </tr>\n    <tr>\n      <th>10369</th>\n      <td>dffe5324-5f6f-48e7-9edf-d51876ba7d2f</td>\n      <td>09/19/2019 08:00:00 AM</td>\n      <td>09/19/2019 08:00:00 AM</td>\n      <td>790</td>\n      <td>111</td>\n      <td>152</td>\n      <td>1.703119e+10</td>\n      <td>1.703120e+10</td>\n      <td>19.0</td>\n      <td>20.0</td>\n      <td>BELMONT CRAGIN</td>\n      <td>HERMOSA</td>\n      <td>41.935218</td>\n      <td>-87.744389</td>\n      <td>POINT (-87.7443888733072 41.9352176386575)</td>\n      <td>41.927852</td>\n      <td>-87.735628</td>\n      <td>POINT (-87.7356282729632 41.9278522690551)</td>\n    </tr>\n    <tr>\n      <th>...</th>\n      <td>...</td>\n      <td>...</td>\n      <td>...</td>\n      <td>...</td>\n      <td>...</td>\n      <td>...</td>\n      <td>...</td>\n      <td>...</td>\n      <td>...</td>\n      <td>...</td>\n      <td>...</td>\n      <td>...</td>\n      <td>...</td>\n      <td>...</td>\n      <td>...</td>\n      <td>...</td>\n      <td>...</td>\n      <td>...</td>\n    </tr>\n    <tr>\n      <th>710834</th>\n      <td>536f855f-2530-4c07-b93e-4de52e75cf1b</td>\n      <td>09/06/2019 07:00:00 AM</td>\n      <td>09/06/2019 07:00:00 AM</td>\n      <td>2524</td>\n      <td>500</td>\n      <td>10</td>\n      <td>NaN</td>\n      <td>NaN</td>\n      <td>19.0</td>\n      <td>19.0</td>\n      <td>BELMONT CRAGIN</td>\n      <td>BELMONT CRAGIN</td>\n      <td>41.927261</td>\n      <td>-87.765502</td>\n      <td>POINT (-87.7655018368979 41.9272607415187)</td>\n      <td>41.927261</td>\n      <td>-87.765502</td>\n      <td>POINT (-87.7655018368979 41.9272607415187)</td>\n    </tr>\n    <tr>\n      <th>710835</th>\n      <td>88721836-1a6c-4ae6-b320-8e9ce1861d16</td>\n      <td>07/11/2019 11:00:00 AM</td>\n      <td>07/11/2019 11:00:00 AM</td>\n      <td>2475</td>\n      <td>480</td>\n      <td>10</td>\n      <td>NaN</td>\n      <td>NaN</td>\n      <td>20.0</td>\n      <td>19.0</td>\n      <td>HERMOSA</td>\n      <td>BELMONT CRAGIN</td>\n      <td>41.924348</td>\n      <td>-87.734740</td>\n      <td>POINT (-87.7347401601846 41.9243477570064)</td>\n      <td>41.927261</td>\n      <td>-87.765502</td>\n      <td>POINT (-87.7655018368979 41.9272607415187)</td>\n    </tr>\n    <tr>\n      <th>710836</th>\n      <td>3f930717-06cf-499d-b390-a45282851347</td>\n      <td>09/17/2019 05:00:00 PM</td>\n      <td>09/17/2019 05:00:00 PM</td>\n      <td>2228</td>\n      <td>590</td>\n      <td>10</td>\n      <td>NaN</td>\n      <td>NaN</td>\n      <td>19.0</td>\n      <td>19.0</td>\n      <td>BELMONT CRAGIN</td>\n      <td>BELMONT CRAGIN</td>\n      <td>41.927261</td>\n      <td>-87.765502</td>\n      <td>POINT (-87.7655018368979 41.9272607415187)</td>\n      <td>41.927261</td>\n      <td>-87.765502</td>\n      <td>POINT (-87.7655018368979 41.9272607415187)</td>\n    </tr>\n    <tr>\n      <th>710837</th>\n      <td>11d01331-0a12-607e-11d0-13310a12607e</td>\n      <td>06/21/2019 05:00:00 PM</td>\n      <td>06/21/2019 05:00:00 PM</td>\n      <td>1303</td>\n      <td>1088</td>\n      <td>10</td>\n      <td>NaN</td>\n      <td>NaN</td>\n      <td>19.0</td>\n      <td>19.0</td>\n      <td>BELMONT CRAGIN</td>\n      <td>BELMONT CRAGIN</td>\n      <td>41.927261</td>\n      <td>-87.765502</td>\n      <td>POINT (-87.7655018368979 41.9272607415187)</td>\n      <td>41.927261</td>\n      <td>-87.765502</td>\n      <td>POINT (-87.7655018368979 41.9272607415187)</td>\n    </tr>\n    <tr>\n      <th>710838</th>\n      <td>196fd7ca-f66e-4540-b1c1-5977b491216c</td>\n      <td>08/13/2019 02:00:00 PM</td>\n      <td>08/13/2019 02:00:00 PM</td>\n      <td>1777</td>\n      <td>372</td>\n      <td>10</td>\n      <td>NaN</td>\n      <td>NaN</td>\n      <td>19.0</td>\n      <td>19.0</td>\n      <td>BELMONT CRAGIN</td>\n      <td>BELMONT CRAGIN</td>\n      <td>41.927261</td>\n      <td>-87.765502</td>\n      <td>POINT (-87.7655018368979 41.9272607415187)</td>\n      <td>41.927261</td>\n      <td>-87.765502</td>\n      <td>POINT (-87.7655018368979 41.9272607415187)</td>\n    </tr>\n  </tbody>\n</table>\n<p>612570 rows × 18 columns</p>\n</div>"
     },
     "execution_count": 21,
     "metadata": {},
     "output_type": "execute_result"
    }
   ],
   "source": [
    "import pandas as pd\n",
    "\n",
    "df = pd.read_csv('escooter_data.csv')\n",
    "df = df.dropna(subset=['Start Community Area Number', 'End Community Area Number'])\n",
    "df"
   ]
  },
  {
   "cell_type": "code",
   "execution_count": 22,
   "outputs": [
    {
     "data": {
      "text/plain": "     Start Hour Start Community Area Name  Average_Trip_Distance  \\\n0             0                   HERMOSA            3454.583333   \n1             0              PORTAGE PARK            3229.326087   \n2             0        EAST GARFIELD PARK            2693.625000   \n3             0              LOGAN SQUARE            2339.309677   \n4             0            BELMONT CRAGIN            3075.163636   \n..          ...                       ...                    ...   \n979          23              NORWOOD PARK               0.000000   \n980          23            WEST ENGLEWOOD               0.000000   \n981          23                WEST RIDGE               0.000000   \n982          23               ALBANY PARK               0.000000   \n983          23            ARCHER HEIGHTS               0.000000   \n\n     Average_Trip_Duration  Trip_Count  Same_Start_End_Percentage  Price  \n0              1040.604167        96.0                  53.125000   0.45  \n1               862.108696        46.0                  47.826087   0.45  \n2               783.125000        32.0                  43.750000   0.45  \n3               761.180645       775.0                  69.548387   0.45  \n4              1145.718182       220.0                  75.000000   0.45  \n..                     ...         ...                        ...    ...  \n979               0.000000         0.0                   0.000000   0.45  \n980               0.000000         0.0                   0.000000   0.45  \n981               0.000000         0.0                   0.000000   0.45  \n982               0.000000         0.0                   0.000000   0.45  \n983               0.000000         0.0                   0.000000   0.45  \n\n[984 rows x 7 columns]",
      "text/html": "<div>\n<style scoped>\n    .dataframe tbody tr th:only-of-type {\n        vertical-align: middle;\n    }\n\n    .dataframe tbody tr th {\n        vertical-align: top;\n    }\n\n    .dataframe thead th {\n        text-align: right;\n    }\n</style>\n<table border=\"1\" class=\"dataframe\">\n  <thead>\n    <tr style=\"text-align: right;\">\n      <th></th>\n      <th>Start Hour</th>\n      <th>Start Community Area Name</th>\n      <th>Average_Trip_Distance</th>\n      <th>Average_Trip_Duration</th>\n      <th>Trip_Count</th>\n      <th>Same_Start_End_Percentage</th>\n      <th>Price</th>\n    </tr>\n  </thead>\n  <tbody>\n    <tr>\n      <th>0</th>\n      <td>0</td>\n      <td>HERMOSA</td>\n      <td>3454.583333</td>\n      <td>1040.604167</td>\n      <td>96.0</td>\n      <td>53.125000</td>\n      <td>0.45</td>\n    </tr>\n    <tr>\n      <th>1</th>\n      <td>0</td>\n      <td>PORTAGE PARK</td>\n      <td>3229.326087</td>\n      <td>862.108696</td>\n      <td>46.0</td>\n      <td>47.826087</td>\n      <td>0.45</td>\n    </tr>\n    <tr>\n      <th>2</th>\n      <td>0</td>\n      <td>EAST GARFIELD PARK</td>\n      <td>2693.625000</td>\n      <td>783.125000</td>\n      <td>32.0</td>\n      <td>43.750000</td>\n      <td>0.45</td>\n    </tr>\n    <tr>\n      <th>3</th>\n      <td>0</td>\n      <td>LOGAN SQUARE</td>\n      <td>2339.309677</td>\n      <td>761.180645</td>\n      <td>775.0</td>\n      <td>69.548387</td>\n      <td>0.45</td>\n    </tr>\n    <tr>\n      <th>4</th>\n      <td>0</td>\n      <td>BELMONT CRAGIN</td>\n      <td>3075.163636</td>\n      <td>1145.718182</td>\n      <td>220.0</td>\n      <td>75.000000</td>\n      <td>0.45</td>\n    </tr>\n    <tr>\n      <th>...</th>\n      <td>...</td>\n      <td>...</td>\n      <td>...</td>\n      <td>...</td>\n      <td>...</td>\n      <td>...</td>\n      <td>...</td>\n    </tr>\n    <tr>\n      <th>979</th>\n      <td>23</td>\n      <td>NORWOOD PARK</td>\n      <td>0.000000</td>\n      <td>0.000000</td>\n      <td>0.0</td>\n      <td>0.000000</td>\n      <td>0.45</td>\n    </tr>\n    <tr>\n      <th>980</th>\n      <td>23</td>\n      <td>WEST ENGLEWOOD</td>\n      <td>0.000000</td>\n      <td>0.000000</td>\n      <td>0.0</td>\n      <td>0.000000</td>\n      <td>0.45</td>\n    </tr>\n    <tr>\n      <th>981</th>\n      <td>23</td>\n      <td>WEST RIDGE</td>\n      <td>0.000000</td>\n      <td>0.000000</td>\n      <td>0.0</td>\n      <td>0.000000</td>\n      <td>0.45</td>\n    </tr>\n    <tr>\n      <th>982</th>\n      <td>23</td>\n      <td>ALBANY PARK</td>\n      <td>0.000000</td>\n      <td>0.000000</td>\n      <td>0.0</td>\n      <td>0.000000</td>\n      <td>0.45</td>\n    </tr>\n    <tr>\n      <th>983</th>\n      <td>23</td>\n      <td>ARCHER HEIGHTS</td>\n      <td>0.000000</td>\n      <td>0.000000</td>\n      <td>0.0</td>\n      <td>0.000000</td>\n      <td>0.45</td>\n    </tr>\n  </tbody>\n</table>\n<p>984 rows × 7 columns</p>\n</div>"
     },
     "execution_count": 22,
     "metadata": {},
     "output_type": "execute_result"
    }
   ],
   "source": [
    "df['Start Time'] = pd.to_datetime(df['Start Time'], format=\"%m/%d/%Y %I:%M:%S %p\")\n",
    "df['End Time'] = pd.to_datetime(df['End Time'], format=\"%m/%d/%Y %I:%M:%S %p\")\n",
    "df['Start Hour'] = df['Start Time'].dt.hour\n",
    "df['Same Start End Community'] = df['Start Community Area Name'] == df['End Community Area Name']\n",
    "unique_areas = pd.unique(df[['Start Community Area Name', 'End Community Area Name']].values.ravel('K'))\n",
    "all_combinations = pd.MultiIndex.from_product([range(24), unique_areas], names=['Start Hour', 'Start Community Area Name']).to_frame(index=False)\n",
    "\n",
    "grouped = df.groupby(['Start Hour', 'Start Community Area Name']).agg(\n",
    "    Average_Trip_Distance=('Trip Distance', 'mean'),\n",
    "    Average_Trip_Duration=('Trip Duration', 'mean'),\n",
    "    Trip_Count=('Trip ID', 'count'),\n",
    "    Same_Start_End_Percentage=('Same Start End Community', lambda x: (x.sum() / x.count()) * 100)\n",
    ").reset_index()\n",
    "result = pd.merge(all_combinations, grouped, on=['Start Hour', 'Start Community Area Name'], how='left')\n",
    "result.fillna(0, inplace=True)\n",
    "result['Price'] = 0.45\n",
    "result.to_csv('base_demand.csv', index=None)\n",
    "result"
   ],
   "metadata": {
    "collapsed": false,
    "ExecuteTime": {
     "end_time": "2024-01-03T14:18:49.430676800Z",
     "start_time": "2024-01-03T14:18:45.239879500Z"
    }
   },
   "id": "49a816dc23caa7da"
  },
  {
   "cell_type": "code",
   "execution_count": 23,
   "outputs": [
    {
     "data": {
      "text/plain": "     Start Hour Start Community Area Name  Average_Trip_Distance  \\\n0             0                   HERMOSA            3454.583333   \n1             0              PORTAGE PARK            3229.326087   \n2             0        EAST GARFIELD PARK            2693.625000   \n3             0              LOGAN SQUARE            2339.309677   \n4             0            BELMONT CRAGIN            3075.163636   \n..          ...                       ...                    ...   \n979          23              NORWOOD PARK               0.000000   \n980          23            WEST ENGLEWOOD               0.000000   \n981          23                WEST RIDGE               0.000000   \n982          23               ALBANY PARK               0.000000   \n983          23            ARCHER HEIGHTS               0.000000   \n\n     Average_Trip_Duration  Trip_Count  Same_Start_End_Percentage  Price  \\\n0              1040.604167        96.0                  53.125000   0.45   \n1               862.108696        46.0                  47.826087   0.45   \n2               783.125000        32.0                  43.750000   0.45   \n3               761.180645       775.0                  69.548387   0.45   \n4              1145.718182       220.0                  75.000000   0.45   \n..                     ...         ...                        ...    ...   \n979               0.000000         0.0                   0.000000   0.45   \n980               0.000000         0.0                   0.000000   0.45   \n981               0.000000         0.0                   0.000000   0.45   \n982               0.000000         0.0                   0.000000   0.45   \n983               0.000000         0.0                   0.000000   0.45   \n\n     Needed_Scooters  \n0               46.0  \n1               25.0  \n2               19.0  \n3              237.0  \n4               56.0  \n..               ...  \n979              1.0  \n980              1.0  \n981              1.0  \n982              1.0  \n983              1.0  \n\n[984 rows x 8 columns]",
      "text/html": "<div>\n<style scoped>\n    .dataframe tbody tr th:only-of-type {\n        vertical-align: middle;\n    }\n\n    .dataframe tbody tr th {\n        vertical-align: top;\n    }\n\n    .dataframe thead th {\n        text-align: right;\n    }\n</style>\n<table border=\"1\" class=\"dataframe\">\n  <thead>\n    <tr style=\"text-align: right;\">\n      <th></th>\n      <th>Start Hour</th>\n      <th>Start Community Area Name</th>\n      <th>Average_Trip_Distance</th>\n      <th>Average_Trip_Duration</th>\n      <th>Trip_Count</th>\n      <th>Same_Start_End_Percentage</th>\n      <th>Price</th>\n      <th>Needed_Scooters</th>\n    </tr>\n  </thead>\n  <tbody>\n    <tr>\n      <th>0</th>\n      <td>0</td>\n      <td>HERMOSA</td>\n      <td>3454.583333</td>\n      <td>1040.604167</td>\n      <td>96.0</td>\n      <td>53.125000</td>\n      <td>0.45</td>\n      <td>46.0</td>\n    </tr>\n    <tr>\n      <th>1</th>\n      <td>0</td>\n      <td>PORTAGE PARK</td>\n      <td>3229.326087</td>\n      <td>862.108696</td>\n      <td>46.0</td>\n      <td>47.826087</td>\n      <td>0.45</td>\n      <td>25.0</td>\n    </tr>\n    <tr>\n      <th>2</th>\n      <td>0</td>\n      <td>EAST GARFIELD PARK</td>\n      <td>2693.625000</td>\n      <td>783.125000</td>\n      <td>32.0</td>\n      <td>43.750000</td>\n      <td>0.45</td>\n      <td>19.0</td>\n    </tr>\n    <tr>\n      <th>3</th>\n      <td>0</td>\n      <td>LOGAN SQUARE</td>\n      <td>2339.309677</td>\n      <td>761.180645</td>\n      <td>775.0</td>\n      <td>69.548387</td>\n      <td>0.45</td>\n      <td>237.0</td>\n    </tr>\n    <tr>\n      <th>4</th>\n      <td>0</td>\n      <td>BELMONT CRAGIN</td>\n      <td>3075.163636</td>\n      <td>1145.718182</td>\n      <td>220.0</td>\n      <td>75.000000</td>\n      <td>0.45</td>\n      <td>56.0</td>\n    </tr>\n    <tr>\n      <th>...</th>\n      <td>...</td>\n      <td>...</td>\n      <td>...</td>\n      <td>...</td>\n      <td>...</td>\n      <td>...</td>\n      <td>...</td>\n      <td>...</td>\n    </tr>\n    <tr>\n      <th>979</th>\n      <td>23</td>\n      <td>NORWOOD PARK</td>\n      <td>0.000000</td>\n      <td>0.000000</td>\n      <td>0.0</td>\n      <td>0.000000</td>\n      <td>0.45</td>\n      <td>1.0</td>\n    </tr>\n    <tr>\n      <th>980</th>\n      <td>23</td>\n      <td>WEST ENGLEWOOD</td>\n      <td>0.000000</td>\n      <td>0.000000</td>\n      <td>0.0</td>\n      <td>0.000000</td>\n      <td>0.45</td>\n      <td>1.0</td>\n    </tr>\n    <tr>\n      <th>981</th>\n      <td>23</td>\n      <td>WEST RIDGE</td>\n      <td>0.000000</td>\n      <td>0.000000</td>\n      <td>0.0</td>\n      <td>0.000000</td>\n      <td>0.45</td>\n      <td>1.0</td>\n    </tr>\n    <tr>\n      <th>982</th>\n      <td>23</td>\n      <td>ALBANY PARK</td>\n      <td>0.000000</td>\n      <td>0.000000</td>\n      <td>0.0</td>\n      <td>0.000000</td>\n      <td>0.45</td>\n      <td>1.0</td>\n    </tr>\n    <tr>\n      <th>983</th>\n      <td>23</td>\n      <td>ARCHER HEIGHTS</td>\n      <td>0.000000</td>\n      <td>0.000000</td>\n      <td>0.0</td>\n      <td>0.000000</td>\n      <td>0.45</td>\n      <td>1.0</td>\n    </tr>\n  </tbody>\n</table>\n<p>984 rows × 8 columns</p>\n</div>"
     },
     "execution_count": 23,
     "metadata": {},
     "output_type": "execute_result"
    }
   ],
   "source": [
    "supply = result.copy()\n",
    "supply['Needed_Scooters'] = supply['Trip_Count'] * (1 - (supply['Same_Start_End_Percentage'] / 100)) + 1\n",
    "supply.to_csv('base_supply.csv', index=None)\n",
    "supply"
   ],
   "metadata": {
    "collapsed": false,
    "ExecuteTime": {
     "end_time": "2024-01-03T14:18:49.539882500Z",
     "start_time": "2024-01-03T14:18:49.430676800Z"
    }
   },
   "id": "be624815e50b0c18"
  },
  {
   "cell_type": "code",
   "execution_count": 24,
   "outputs": [
    {
     "data": {
      "text/plain": "Index(['Start Hour', 'Start Community Area Name', 'Average_Trip_Distance',\n       'Average_Trip_Duration', 'Trip_Count', 'Same_Start_End_Percentage',\n       'Price', 'Needed_Scooters'],\n      dtype='object')"
     },
     "execution_count": 24,
     "metadata": {},
     "output_type": "execute_result"
    }
   ],
   "source": [
    "supply.columns"
   ],
   "metadata": {
    "collapsed": false,
    "ExecuteTime": {
     "end_time": "2024-01-03T14:20:49.515077300Z",
     "start_time": "2024-01-03T14:20:49.467779900Z"
    }
   },
   "id": "40a237a35358f899"
  },
  {
   "cell_type": "code",
   "execution_count": 15,
   "outputs": [
    {
     "data": {
      "text/plain": "     End Hour End Community Area Name  Trip Count  Average Fraction\n0           0                 HERMOSA       110.0          0.022541\n1           0            PORTAGE PARK        65.0          0.013320\n2           0      EAST GARFIELD PARK        46.0          0.009426\n3           0            LOGAN SQUARE       851.0          0.174385\n4           0          BELMONT CRAGIN       246.0          0.050410\n..        ...                     ...         ...               ...\n979        23            NORWOOD PARK         NaN          0.000000\n980        23          WEST ENGLEWOOD         NaN          0.000000\n981        23              WEST RIDGE         NaN          0.000000\n982        23             ALBANY PARK         NaN          0.000000\n983        23          ARCHER HEIGHTS         NaN          0.000000\n\n[984 rows x 4 columns]",
      "text/html": "<div>\n<style scoped>\n    .dataframe tbody tr th:only-of-type {\n        vertical-align: middle;\n    }\n\n    .dataframe tbody tr th {\n        vertical-align: top;\n    }\n\n    .dataframe thead th {\n        text-align: right;\n    }\n</style>\n<table border=\"1\" class=\"dataframe\">\n  <thead>\n    <tr style=\"text-align: right;\">\n      <th></th>\n      <th>End Hour</th>\n      <th>End Community Area Name</th>\n      <th>Trip Count</th>\n      <th>Average Fraction</th>\n    </tr>\n  </thead>\n  <tbody>\n    <tr>\n      <th>0</th>\n      <td>0</td>\n      <td>HERMOSA</td>\n      <td>110.0</td>\n      <td>0.022541</td>\n    </tr>\n    <tr>\n      <th>1</th>\n      <td>0</td>\n      <td>PORTAGE PARK</td>\n      <td>65.0</td>\n      <td>0.013320</td>\n    </tr>\n    <tr>\n      <th>2</th>\n      <td>0</td>\n      <td>EAST GARFIELD PARK</td>\n      <td>46.0</td>\n      <td>0.009426</td>\n    </tr>\n    <tr>\n      <th>3</th>\n      <td>0</td>\n      <td>LOGAN SQUARE</td>\n      <td>851.0</td>\n      <td>0.174385</td>\n    </tr>\n    <tr>\n      <th>4</th>\n      <td>0</td>\n      <td>BELMONT CRAGIN</td>\n      <td>246.0</td>\n      <td>0.050410</td>\n    </tr>\n    <tr>\n      <th>...</th>\n      <td>...</td>\n      <td>...</td>\n      <td>...</td>\n      <td>...</td>\n    </tr>\n    <tr>\n      <th>979</th>\n      <td>23</td>\n      <td>NORWOOD PARK</td>\n      <td>NaN</td>\n      <td>0.000000</td>\n    </tr>\n    <tr>\n      <th>980</th>\n      <td>23</td>\n      <td>WEST ENGLEWOOD</td>\n      <td>NaN</td>\n      <td>0.000000</td>\n    </tr>\n    <tr>\n      <th>981</th>\n      <td>23</td>\n      <td>WEST RIDGE</td>\n      <td>NaN</td>\n      <td>0.000000</td>\n    </tr>\n    <tr>\n      <th>982</th>\n      <td>23</td>\n      <td>ALBANY PARK</td>\n      <td>NaN</td>\n      <td>0.000000</td>\n    </tr>\n    <tr>\n      <th>983</th>\n      <td>23</td>\n      <td>ARCHER HEIGHTS</td>\n      <td>NaN</td>\n      <td>0.000000</td>\n    </tr>\n  </tbody>\n</table>\n<p>984 rows × 4 columns</p>\n</div>"
     },
     "execution_count": 15,
     "metadata": {},
     "output_type": "execute_result"
    }
   ],
   "source": [
    "df['End Hour'] = df['End Time'].dt.hour\n",
    "unique_areas = pd.unique(df[['Start Community Area Name', 'End Community Area Name']].values.ravel('K'))\n",
    "all_combinations = pd.MultiIndex.from_product([range(24), unique_areas], names=['End Hour', 'End Community Area Name']).to_frame(index=False)\n",
    "end_area_counts = df.groupby(['End Community Area Name', 'End Hour']).size().reset_index(name='Trip Count')\n",
    "result = pd.merge(all_combinations, end_area_counts, on=['End Hour', 'End Community Area Name'], how='left')\n",
    "total_trips_per_end_hour = df.groupby('End Hour').size()\n",
    "result['Average Fraction'] = result.apply(lambda row: row['Trip Count'] / total_trips_per_end_hour[row['End Hour']] if row['End Hour'] in total_trips_per_end_hour else 0, axis=1)\n",
    "result['Average Fraction'].fillna(0, inplace=True)\n",
    "result.to_csv('transition_model.csv', index=None)\n",
    "result"
   ],
   "metadata": {
    "collapsed": false,
    "ExecuteTime": {
     "end_time": "2024-01-03T13:58:00.378653200Z",
     "start_time": "2024-01-03T13:58:00.104309700Z"
    }
   },
   "id": "6c76074d94999e51"
  },
  {
   "cell_type": "code",
   "execution_count": null,
   "outputs": [],
   "source": [],
   "metadata": {
    "collapsed": false
   },
   "id": "cb0403a1d72c3b63"
  }
 ],
 "metadata": {
  "kernelspec": {
   "display_name": "Python 3",
   "language": "python",
   "name": "python3"
  },
  "language_info": {
   "codemirror_mode": {
    "name": "ipython",
    "version": 2
   },
   "file_extension": ".py",
   "mimetype": "text/x-python",
   "name": "python",
   "nbconvert_exporter": "python",
   "pygments_lexer": "ipython2",
   "version": "2.7.6"
  }
 },
 "nbformat": 4,
 "nbformat_minor": 5
}
