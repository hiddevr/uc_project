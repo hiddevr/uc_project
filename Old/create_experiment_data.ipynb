{
 "cells": [
  {
   "cell_type": "code",
   "execution_count": 14,
   "id": "initial_id",
   "metadata": {
    "collapsed": true,
    "ExecuteTime": {
     "end_time": "2023-12-29T14:52:42.703912Z",
     "start_time": "2023-12-29T14:52:39.609857900Z"
    }
   },
   "outputs": [
    {
     "data": {
      "text/plain": "                                     Trip ID              Start Time  \\\n10291   0dd95046-1bc8-4464-ba39-7f9e92c668b3  08/06/2019 06:00:00 PM   \n10293   6819df6a-9623-4ae0-b1d3-ec617197d229  07/08/2019 04:00:00 PM   \n10342   aa71bb53-3e7f-4964-b6e6-030800419346  08/10/2019 09:00:00 PM   \n10367   5d256770-1a8a-5e20-8f78-316d1819f46b  06/25/2019 07:00:00 PM   \n10369   dffe5324-5f6f-48e7-9edf-d51876ba7d2f  09/19/2019 08:00:00 AM   \n...                                      ...                     ...   \n710834  536f855f-2530-4c07-b93e-4de52e75cf1b  09/06/2019 07:00:00 AM   \n710835  88721836-1a6c-4ae6-b320-8e9ce1861d16  07/11/2019 11:00:00 AM   \n710836  3f930717-06cf-499d-b390-a45282851347  09/17/2019 05:00:00 PM   \n710837  11d01331-0a12-607e-11d0-13310a12607e  06/21/2019 05:00:00 PM   \n710838  196fd7ca-f66e-4540-b1c1-5977b491216c  08/13/2019 02:00:00 PM   \n\n                      End Time  Trip Distance  Trip Duration  Accuracy  \\\n10291   08/06/2019 06:00:00 PM           1004            236       152   \n10293   07/08/2019 05:00:00 PM           9124           3182        10   \n10342   08/10/2019 09:00:00 PM            502             97       152   \n10367   06/25/2019 08:00:00 PM           5053           2167         0   \n10369   09/19/2019 08:00:00 AM            790            111       152   \n...                        ...            ...            ...       ...   \n710834  09/06/2019 07:00:00 AM           2524            500        10   \n710835  07/11/2019 11:00:00 AM           2475            480        10   \n710836  09/17/2019 05:00:00 PM           2228            590        10   \n710837  06/21/2019 05:00:00 PM           1303           1088        10   \n710838  08/13/2019 02:00:00 PM           1777            372        10   \n\n        Start Census Tract  End Census Tract  Start Community Area Number  \\\n10291         1.703120e+10      1.703120e+10                         20.0   \n10293         1.703115e+10      1.703119e+10                         15.0   \n10342         1.703184e+10      1.703184e+10                         27.0   \n10367         1.703122e+10      1.703119e+10                         22.0   \n10369         1.703119e+10      1.703120e+10                         19.0   \n...                    ...               ...                          ...   \n710834                 NaN               NaN                         19.0   \n710835                 NaN               NaN                         20.0   \n710836                 NaN               NaN                         19.0   \n710837                 NaN               NaN                         19.0   \n710838                 NaN               NaN                         19.0   \n\n        End Community Area Number Start Community Area Name  \\\n10291                        20.0                   HERMOSA   \n10293                        19.0              PORTAGE PARK   \n10342                        27.0        EAST GARFIELD PARK   \n10367                        19.0              LOGAN SQUARE   \n10369                        20.0            BELMONT CRAGIN   \n...                           ...                       ...   \n710834                       19.0            BELMONT CRAGIN   \n710835                       19.0                   HERMOSA   \n710836                       19.0            BELMONT CRAGIN   \n710837                       19.0            BELMONT CRAGIN   \n710838                       19.0            BELMONT CRAGIN   \n\n       End Community Area Name  Start Centroid Latitude  \\\n10291                  HERMOSA                41.935048   \n10293           BELMONT CRAGIN                41.949592   \n10342       EAST GARFIELD PARK                41.885045   \n10367           BELMONT CRAGIN                41.921126   \n10369                  HERMOSA                41.935218   \n...                        ...                      ...   \n710834          BELMONT CRAGIN                41.927261   \n710835          BELMONT CRAGIN                41.924348   \n710836          BELMONT CRAGIN                41.927261   \n710837          BELMONT CRAGIN                41.927261   \n710838          BELMONT CRAGIN                41.927261   \n\n        Start Centroid Longitude                      Start Centroid Location  \\\n10291                 -87.737604   POINT (-87.7376041954734 41.9350481285613)   \n10293                 -87.761958   POINT (-87.7619580301513 41.9495915671753)   \n10342                 -87.713862  POINT (-87.71386248059811 41.8850448415253)   \n10367                 -87.699754   POINT (-87.6997540616386 41.9211256768265)   \n10369                 -87.744389   POINT (-87.7443888733072 41.9352176386575)   \n...                          ...                                          ...   \n710834                -87.765502   POINT (-87.7655018368979 41.9272607415187)   \n710835                -87.734740   POINT (-87.7347401601846 41.9243477570064)   \n710836                -87.765502   POINT (-87.7655018368979 41.9272607415187)   \n710837                -87.765502   POINT (-87.7655018368979 41.9272607415187)   \n710838                -87.765502   POINT (-87.7655018368979 41.9272607415187)   \n\n        End Centroid Latitude  End Centroid Longitude  \\\n10291               41.935048              -87.737604   \n10293               41.920143              -87.760827   \n10342               41.885045              -87.713862   \n10367               41.927819              -87.751362   \n10369               41.927852              -87.735628   \n...                       ...                     ...   \n710834              41.927261              -87.765502   \n710835              41.927261              -87.765502   \n710836              41.927261              -87.765502   \n710837              41.927261              -87.765502   \n710838              41.927261              -87.765502   \n\n                              End Centroid Location  \n10291    POINT (-87.7376041954734 41.9350481285613)  \n10293     POINT (-87.7608269556143 41.920143229102)  \n10342   POINT (-87.71386248059811 41.8850448415253)  \n10367    POINT (-87.7513623675995 41.9278186319205)  \n10369    POINT (-87.7356282729632 41.9278522690551)  \n...                                             ...  \n710834   POINT (-87.7655018368979 41.9272607415187)  \n710835   POINT (-87.7655018368979 41.9272607415187)  \n710836   POINT (-87.7655018368979 41.9272607415187)  \n710837   POINT (-87.7655018368979 41.9272607415187)  \n710838   POINT (-87.7655018368979 41.9272607415187)  \n\n[612570 rows x 18 columns]",
      "text/html": "<div>\n<style scoped>\n    .dataframe tbody tr th:only-of-type {\n        vertical-align: middle;\n    }\n\n    .dataframe tbody tr th {\n        vertical-align: top;\n    }\n\n    .dataframe thead th {\n        text-align: right;\n    }\n</style>\n<table border=\"1\" class=\"dataframe\">\n  <thead>\n    <tr style=\"text-align: right;\">\n      <th></th>\n      <th>Trip ID</th>\n      <th>Start Time</th>\n      <th>End Time</th>\n      <th>Trip Distance</th>\n      <th>Trip Duration</th>\n      <th>Accuracy</th>\n      <th>Start Census Tract</th>\n      <th>End Census Tract</th>\n      <th>Start Community Area Number</th>\n      <th>End Community Area Number</th>\n      <th>Start Community Area Name</th>\n      <th>End Community Area Name</th>\n      <th>Start Centroid Latitude</th>\n      <th>Start Centroid Longitude</th>\n      <th>Start Centroid Location</th>\n      <th>End Centroid Latitude</th>\n      <th>End Centroid Longitude</th>\n      <th>End Centroid Location</th>\n    </tr>\n  </thead>\n  <tbody>\n    <tr>\n      <th>10291</th>\n      <td>0dd95046-1bc8-4464-ba39-7f9e92c668b3</td>\n      <td>08/06/2019 06:00:00 PM</td>\n      <td>08/06/2019 06:00:00 PM</td>\n      <td>1004</td>\n      <td>236</td>\n      <td>152</td>\n      <td>1.703120e+10</td>\n      <td>1.703120e+10</td>\n      <td>20.0</td>\n      <td>20.0</td>\n      <td>HERMOSA</td>\n      <td>HERMOSA</td>\n      <td>41.935048</td>\n      <td>-87.737604</td>\n      <td>POINT (-87.7376041954734 41.9350481285613)</td>\n      <td>41.935048</td>\n      <td>-87.737604</td>\n      <td>POINT (-87.7376041954734 41.9350481285613)</td>\n    </tr>\n    <tr>\n      <th>10293</th>\n      <td>6819df6a-9623-4ae0-b1d3-ec617197d229</td>\n      <td>07/08/2019 04:00:00 PM</td>\n      <td>07/08/2019 05:00:00 PM</td>\n      <td>9124</td>\n      <td>3182</td>\n      <td>10</td>\n      <td>1.703115e+10</td>\n      <td>1.703119e+10</td>\n      <td>15.0</td>\n      <td>19.0</td>\n      <td>PORTAGE PARK</td>\n      <td>BELMONT CRAGIN</td>\n      <td>41.949592</td>\n      <td>-87.761958</td>\n      <td>POINT (-87.7619580301513 41.9495915671753)</td>\n      <td>41.920143</td>\n      <td>-87.760827</td>\n      <td>POINT (-87.7608269556143 41.920143229102)</td>\n    </tr>\n    <tr>\n      <th>10342</th>\n      <td>aa71bb53-3e7f-4964-b6e6-030800419346</td>\n      <td>08/10/2019 09:00:00 PM</td>\n      <td>08/10/2019 09:00:00 PM</td>\n      <td>502</td>\n      <td>97</td>\n      <td>152</td>\n      <td>1.703184e+10</td>\n      <td>1.703184e+10</td>\n      <td>27.0</td>\n      <td>27.0</td>\n      <td>EAST GARFIELD PARK</td>\n      <td>EAST GARFIELD PARK</td>\n      <td>41.885045</td>\n      <td>-87.713862</td>\n      <td>POINT (-87.71386248059811 41.8850448415253)</td>\n      <td>41.885045</td>\n      <td>-87.713862</td>\n      <td>POINT (-87.71386248059811 41.8850448415253)</td>\n    </tr>\n    <tr>\n      <th>10367</th>\n      <td>5d256770-1a8a-5e20-8f78-316d1819f46b</td>\n      <td>06/25/2019 07:00:00 PM</td>\n      <td>06/25/2019 08:00:00 PM</td>\n      <td>5053</td>\n      <td>2167</td>\n      <td>0</td>\n      <td>1.703122e+10</td>\n      <td>1.703119e+10</td>\n      <td>22.0</td>\n      <td>19.0</td>\n      <td>LOGAN SQUARE</td>\n      <td>BELMONT CRAGIN</td>\n      <td>41.921126</td>\n      <td>-87.699754</td>\n      <td>POINT (-87.6997540616386 41.9211256768265)</td>\n      <td>41.927819</td>\n      <td>-87.751362</td>\n      <td>POINT (-87.7513623675995 41.9278186319205)</td>\n    </tr>\n    <tr>\n      <th>10369</th>\n      <td>dffe5324-5f6f-48e7-9edf-d51876ba7d2f</td>\n      <td>09/19/2019 08:00:00 AM</td>\n      <td>09/19/2019 08:00:00 AM</td>\n      <td>790</td>\n      <td>111</td>\n      <td>152</td>\n      <td>1.703119e+10</td>\n      <td>1.703120e+10</td>\n      <td>19.0</td>\n      <td>20.0</td>\n      <td>BELMONT CRAGIN</td>\n      <td>HERMOSA</td>\n      <td>41.935218</td>\n      <td>-87.744389</td>\n      <td>POINT (-87.7443888733072 41.9352176386575)</td>\n      <td>41.927852</td>\n      <td>-87.735628</td>\n      <td>POINT (-87.7356282729632 41.9278522690551)</td>\n    </tr>\n    <tr>\n      <th>...</th>\n      <td>...</td>\n      <td>...</td>\n      <td>...</td>\n      <td>...</td>\n      <td>...</td>\n      <td>...</td>\n      <td>...</td>\n      <td>...</td>\n      <td>...</td>\n      <td>...</td>\n      <td>...</td>\n      <td>...</td>\n      <td>...</td>\n      <td>...</td>\n      <td>...</td>\n      <td>...</td>\n      <td>...</td>\n      <td>...</td>\n    </tr>\n    <tr>\n      <th>710834</th>\n      <td>536f855f-2530-4c07-b93e-4de52e75cf1b</td>\n      <td>09/06/2019 07:00:00 AM</td>\n      <td>09/06/2019 07:00:00 AM</td>\n      <td>2524</td>\n      <td>500</td>\n      <td>10</td>\n      <td>NaN</td>\n      <td>NaN</td>\n      <td>19.0</td>\n      <td>19.0</td>\n      <td>BELMONT CRAGIN</td>\n      <td>BELMONT CRAGIN</td>\n      <td>41.927261</td>\n      <td>-87.765502</td>\n      <td>POINT (-87.7655018368979 41.9272607415187)</td>\n      <td>41.927261</td>\n      <td>-87.765502</td>\n      <td>POINT (-87.7655018368979 41.9272607415187)</td>\n    </tr>\n    <tr>\n      <th>710835</th>\n      <td>88721836-1a6c-4ae6-b320-8e9ce1861d16</td>\n      <td>07/11/2019 11:00:00 AM</td>\n      <td>07/11/2019 11:00:00 AM</td>\n      <td>2475</td>\n      <td>480</td>\n      <td>10</td>\n      <td>NaN</td>\n      <td>NaN</td>\n      <td>20.0</td>\n      <td>19.0</td>\n      <td>HERMOSA</td>\n      <td>BELMONT CRAGIN</td>\n      <td>41.924348</td>\n      <td>-87.734740</td>\n      <td>POINT (-87.7347401601846 41.9243477570064)</td>\n      <td>41.927261</td>\n      <td>-87.765502</td>\n      <td>POINT (-87.7655018368979 41.9272607415187)</td>\n    </tr>\n    <tr>\n      <th>710836</th>\n      <td>3f930717-06cf-499d-b390-a45282851347</td>\n      <td>09/17/2019 05:00:00 PM</td>\n      <td>09/17/2019 05:00:00 PM</td>\n      <td>2228</td>\n      <td>590</td>\n      <td>10</td>\n      <td>NaN</td>\n      <td>NaN</td>\n      <td>19.0</td>\n      <td>19.0</td>\n      <td>BELMONT CRAGIN</td>\n      <td>BELMONT CRAGIN</td>\n      <td>41.927261</td>\n      <td>-87.765502</td>\n      <td>POINT (-87.7655018368979 41.9272607415187)</td>\n      <td>41.927261</td>\n      <td>-87.765502</td>\n      <td>POINT (-87.7655018368979 41.9272607415187)</td>\n    </tr>\n    <tr>\n      <th>710837</th>\n      <td>11d01331-0a12-607e-11d0-13310a12607e</td>\n      <td>06/21/2019 05:00:00 PM</td>\n      <td>06/21/2019 05:00:00 PM</td>\n      <td>1303</td>\n      <td>1088</td>\n      <td>10</td>\n      <td>NaN</td>\n      <td>NaN</td>\n      <td>19.0</td>\n      <td>19.0</td>\n      <td>BELMONT CRAGIN</td>\n      <td>BELMONT CRAGIN</td>\n      <td>41.927261</td>\n      <td>-87.765502</td>\n      <td>POINT (-87.7655018368979 41.9272607415187)</td>\n      <td>41.927261</td>\n      <td>-87.765502</td>\n      <td>POINT (-87.7655018368979 41.9272607415187)</td>\n    </tr>\n    <tr>\n      <th>710838</th>\n      <td>196fd7ca-f66e-4540-b1c1-5977b491216c</td>\n      <td>08/13/2019 02:00:00 PM</td>\n      <td>08/13/2019 02:00:00 PM</td>\n      <td>1777</td>\n      <td>372</td>\n      <td>10</td>\n      <td>NaN</td>\n      <td>NaN</td>\n      <td>19.0</td>\n      <td>19.0</td>\n      <td>BELMONT CRAGIN</td>\n      <td>BELMONT CRAGIN</td>\n      <td>41.927261</td>\n      <td>-87.765502</td>\n      <td>POINT (-87.7655018368979 41.9272607415187)</td>\n      <td>41.927261</td>\n      <td>-87.765502</td>\n      <td>POINT (-87.7655018368979 41.9272607415187)</td>\n    </tr>\n  </tbody>\n</table>\n<p>612570 rows × 18 columns</p>\n</div>"
     },
     "execution_count": 14,
     "metadata": {},
     "output_type": "execute_result"
    }
   ],
   "source": [
    "import pandas as pd\n",
    "\n",
    "df = pd.read_csv('escooter_data.csv')\n",
    "df = df.dropna(subset=['Start Community Area Number', 'End Community Area Number'])\n",
    "df"
   ]
  },
  {
   "cell_type": "code",
   "execution_count": 15,
   "outputs": [
    {
     "data": {
      "text/plain": "Index(['Trip ID', 'Start Time', 'End Time', 'Trip Distance', 'Trip Duration',\n       'Accuracy', 'Start Census Tract', 'End Census Tract',\n       'Start Community Area Number', 'End Community Area Number',\n       'Start Community Area Name', 'End Community Area Name',\n       'Start Centroid Latitude', 'Start Centroid Longitude',\n       'Start Centroid Location', 'End Centroid Latitude',\n       'End Centroid Longitude', 'End Centroid Location'],\n      dtype='object')"
     },
     "execution_count": 15,
     "metadata": {},
     "output_type": "execute_result"
    }
   ],
   "source": [
    "df.columns"
   ],
   "metadata": {
    "collapsed": false,
    "ExecuteTime": {
     "end_time": "2023-12-29T14:52:42.719966800Z",
     "start_time": "2023-12-29T14:52:42.703912Z"
    }
   },
   "id": "b703c06e8aeb9a32"
  },
  {
   "cell_type": "code",
   "execution_count": 21,
   "outputs": [
    {
     "data": {
      "text/plain": "        Day  Start Hour  Start Community Area Number  requests  \\\n0        52           0                          2.0       0.0   \n1        52           0                          3.0       0.0   \n2        52           0                          4.0       0.0   \n3        52           0                          5.0       0.0   \n4        52           0                          6.0       0.0   \n...     ...         ...                          ...       ...   \n108235  121          23                         60.0       0.0   \n108236  121          23                         61.0       0.0   \n108237  121          23                         63.0       0.0   \n108238  121          23                         66.0       0.0   \n108239  121          23                         67.0       0.0   \n\n        predicted_requests  initial_available_scooters  available_scooters  \n0                      0.0                         NaN                 NaN  \n1                      0.0                         NaN                 NaN  \n2                      0.0                         NaN                 NaN  \n3                      0.0                         NaN                 NaN  \n4                      0.0                         NaN                 NaN  \n...                    ...                         ...                 ...  \n108235                 0.0                         NaN                 NaN  \n108236                 0.0                         NaN                 NaN  \n108237                 0.0                         NaN                 NaN  \n108238                 0.0                         NaN                 NaN  \n108239                 0.0                         NaN                 NaN  \n\n[108240 rows x 7 columns]",
      "text/html": "<div>\n<style scoped>\n    .dataframe tbody tr th:only-of-type {\n        vertical-align: middle;\n    }\n\n    .dataframe tbody tr th {\n        vertical-align: top;\n    }\n\n    .dataframe thead th {\n        text-align: right;\n    }\n</style>\n<table border=\"1\" class=\"dataframe\">\n  <thead>\n    <tr style=\"text-align: right;\">\n      <th></th>\n      <th>Day</th>\n      <th>Start Hour</th>\n      <th>Start Community Area Number</th>\n      <th>requests</th>\n      <th>predicted_requests</th>\n      <th>initial_available_scooters</th>\n      <th>available_scooters</th>\n    </tr>\n  </thead>\n  <tbody>\n    <tr>\n      <th>0</th>\n      <td>52</td>\n      <td>0</td>\n      <td>2.0</td>\n      <td>0.0</td>\n      <td>0.0</td>\n      <td>NaN</td>\n      <td>NaN</td>\n    </tr>\n    <tr>\n      <th>1</th>\n      <td>52</td>\n      <td>0</td>\n      <td>3.0</td>\n      <td>0.0</td>\n      <td>0.0</td>\n      <td>NaN</td>\n      <td>NaN</td>\n    </tr>\n    <tr>\n      <th>2</th>\n      <td>52</td>\n      <td>0</td>\n      <td>4.0</td>\n      <td>0.0</td>\n      <td>0.0</td>\n      <td>NaN</td>\n      <td>NaN</td>\n    </tr>\n    <tr>\n      <th>3</th>\n      <td>52</td>\n      <td>0</td>\n      <td>5.0</td>\n      <td>0.0</td>\n      <td>0.0</td>\n      <td>NaN</td>\n      <td>NaN</td>\n    </tr>\n    <tr>\n      <th>4</th>\n      <td>52</td>\n      <td>0</td>\n      <td>6.0</td>\n      <td>0.0</td>\n      <td>0.0</td>\n      <td>NaN</td>\n      <td>NaN</td>\n    </tr>\n    <tr>\n      <th>...</th>\n      <td>...</td>\n      <td>...</td>\n      <td>...</td>\n      <td>...</td>\n      <td>...</td>\n      <td>...</td>\n      <td>...</td>\n    </tr>\n    <tr>\n      <th>108235</th>\n      <td>121</td>\n      <td>23</td>\n      <td>60.0</td>\n      <td>0.0</td>\n      <td>0.0</td>\n      <td>NaN</td>\n      <td>NaN</td>\n    </tr>\n    <tr>\n      <th>108236</th>\n      <td>121</td>\n      <td>23</td>\n      <td>61.0</td>\n      <td>0.0</td>\n      <td>0.0</td>\n      <td>NaN</td>\n      <td>NaN</td>\n    </tr>\n    <tr>\n      <th>108237</th>\n      <td>121</td>\n      <td>23</td>\n      <td>63.0</td>\n      <td>0.0</td>\n      <td>0.0</td>\n      <td>NaN</td>\n      <td>NaN</td>\n    </tr>\n    <tr>\n      <th>108238</th>\n      <td>121</td>\n      <td>23</td>\n      <td>66.0</td>\n      <td>0.0</td>\n      <td>0.0</td>\n      <td>NaN</td>\n      <td>NaN</td>\n    </tr>\n    <tr>\n      <th>108239</th>\n      <td>121</td>\n      <td>23</td>\n      <td>67.0</td>\n      <td>0.0</td>\n      <td>0.0</td>\n      <td>NaN</td>\n      <td>NaN</td>\n    </tr>\n  </tbody>\n</table>\n<p>108240 rows × 7 columns</p>\n</div>"
     },
     "execution_count": 21,
     "metadata": {},
     "output_type": "execute_result"
    }
   ],
   "source": [
    "datetime_format = \"%m/%d/%Y %I:%M:%S %p\"\n",
    "import pandas as pd\n",
    "import numpy as np\n",
    "\n",
    "start_areas = df['Start Community Area Number'].unique()\n",
    "end_areas = df['End Community Area Number'].unique()\n",
    "all_regions = np.unique(np.concatenate((start_areas, end_areas)))\n",
    "\n",
    "df['Start Time'] = pd.to_datetime(df['Start Time'], format=datetime_format)\n",
    "df['End Time'] = pd.to_datetime(df['End Time'], format=datetime_format)\n",
    "\n",
    "df['Start Hour'] = df['Start Time'].dt.hour\n",
    "df['End Hour'] = df['End Time'].dt.hour\n",
    "df['Day'] = (df['Start Time'] - df['Start Time'].min()).dt.days\n",
    "\n",
    "trips_per_hour = df.groupby(['Day', 'Start Hour', 'Start Community Area Number']).size().reset_index(name='requests')\n",
    "\n",
    "trips_per_hour['predicted_requests'] = trips_per_hour.groupby(['Day', 'Start Community Area Number'])['requests'].shift(-1)\n",
    "trips_per_hour['predicted_requests'] = trips_per_hour.groupby(['Day', 'Start Community Area Number'])['predicted_requests'].fillna(0)\n",
    "\n",
    "outflow = df.groupby(['Start Community Area Number', df['Start Time'].dt.date]).size().reset_index(name='outflow')\n",
    "inflow = df.groupby(['End Community Area Number', df['End Time'].dt.date]).size().reset_index(name='inflow')\n",
    "net_flow = pd.merge(outflow, inflow, left_on=['Start Community Area Number', 'Start Time'], right_on=['End Community Area Number', 'End Time'])\n",
    "net_flow['net_outflow'] = net_flow['outflow'] - net_flow['inflow']\n",
    "max_outflow = net_flow.groupby('Start Community Area Number')['net_outflow'].max().reset_index()\n",
    "\n",
    "trips_per_hour = trips_per_hour.merge(max_outflow, on='Start Community Area Number', how='left')\n",
    "trips_per_hour.rename(columns={'net_outflow': 'initial_available_scooters'}, inplace=True)\n",
    "\n",
    "trips_per_hour['available_scooters'] = trips_per_hour['initial_available_scooters']\n",
    "\n",
    "all_days = df['Day'].unique()\n",
    "all_hours = range(24)\n",
    "index = pd.MultiIndex.from_product([all_days, all_hours, all_regions], names=['Day', 'Start Hour', 'Start Community Area Number'])\n",
    "complete_df = pd.DataFrame(index=index).reset_index()\n",
    "\n",
    "final_df = complete_df.merge(trips_per_hour, on=['Day', 'Start Hour', 'Start Community Area Number'], how='left')\n",
    "\n",
    "final_df['requests'].fillna(0, inplace=True)\n",
    "final_df['predicted_requests'].fillna(0, inplace=True)\n",
    "final_df"
   ],
   "metadata": {
    "collapsed": false,
    "ExecuteTime": {
     "end_time": "2023-12-29T15:29:47.571699600Z",
     "start_time": "2023-12-29T15:29:46.319220600Z"
    }
   },
   "id": "41d4228f8e72a3fe"
  },
  {
   "cell_type": "code",
   "execution_count": 22,
   "outputs": [
    {
     "data": {
      "text/plain": "        Day  Start Hour  Start Community Area Number  requests  \\\n0        52           0                          2.0       0.0   \n1        52           0                          3.0       0.0   \n2        52           0                          4.0       0.0   \n3        52           0                          5.0       0.0   \n4        52           0                          6.0       0.0   \n...     ...         ...                          ...       ...   \n108235  121          23                         60.0       0.0   \n108236  121          23                         61.0       0.0   \n108237  121          23                         63.0       0.0   \n108238  121          23                         66.0       0.0   \n108239  121          23                         67.0       0.0   \n\n        predicted_requests  available_scooters  \n0                      0.0                 5.0  \n1                      0.0                 5.0  \n2                      0.0                 5.0  \n3                      0.0                 5.0  \n4                      0.0                 5.0  \n...                    ...                 ...  \n108235                 0.0                 5.0  \n108236                 0.0                 5.0  \n108237                 0.0                 5.0  \n108238                 0.0                 5.0  \n108239                 0.0                 5.0  \n\n[108240 rows x 6 columns]",
      "text/html": "<div>\n<style scoped>\n    .dataframe tbody tr th:only-of-type {\n        vertical-align: middle;\n    }\n\n    .dataframe tbody tr th {\n        vertical-align: top;\n    }\n\n    .dataframe thead th {\n        text-align: right;\n    }\n</style>\n<table border=\"1\" class=\"dataframe\">\n  <thead>\n    <tr style=\"text-align: right;\">\n      <th></th>\n      <th>Day</th>\n      <th>Start Hour</th>\n      <th>Start Community Area Number</th>\n      <th>requests</th>\n      <th>predicted_requests</th>\n      <th>available_scooters</th>\n    </tr>\n  </thead>\n  <tbody>\n    <tr>\n      <th>0</th>\n      <td>52</td>\n      <td>0</td>\n      <td>2.0</td>\n      <td>0.0</td>\n      <td>0.0</td>\n      <td>5.0</td>\n    </tr>\n    <tr>\n      <th>1</th>\n      <td>52</td>\n      <td>0</td>\n      <td>3.0</td>\n      <td>0.0</td>\n      <td>0.0</td>\n      <td>5.0</td>\n    </tr>\n    <tr>\n      <th>2</th>\n      <td>52</td>\n      <td>0</td>\n      <td>4.0</td>\n      <td>0.0</td>\n      <td>0.0</td>\n      <td>5.0</td>\n    </tr>\n    <tr>\n      <th>3</th>\n      <td>52</td>\n      <td>0</td>\n      <td>5.0</td>\n      <td>0.0</td>\n      <td>0.0</td>\n      <td>5.0</td>\n    </tr>\n    <tr>\n      <th>4</th>\n      <td>52</td>\n      <td>0</td>\n      <td>6.0</td>\n      <td>0.0</td>\n      <td>0.0</td>\n      <td>5.0</td>\n    </tr>\n    <tr>\n      <th>...</th>\n      <td>...</td>\n      <td>...</td>\n      <td>...</td>\n      <td>...</td>\n      <td>...</td>\n      <td>...</td>\n    </tr>\n    <tr>\n      <th>108235</th>\n      <td>121</td>\n      <td>23</td>\n      <td>60.0</td>\n      <td>0.0</td>\n      <td>0.0</td>\n      <td>5.0</td>\n    </tr>\n    <tr>\n      <th>108236</th>\n      <td>121</td>\n      <td>23</td>\n      <td>61.0</td>\n      <td>0.0</td>\n      <td>0.0</td>\n      <td>5.0</td>\n    </tr>\n    <tr>\n      <th>108237</th>\n      <td>121</td>\n      <td>23</td>\n      <td>63.0</td>\n      <td>0.0</td>\n      <td>0.0</td>\n      <td>5.0</td>\n    </tr>\n    <tr>\n      <th>108238</th>\n      <td>121</td>\n      <td>23</td>\n      <td>66.0</td>\n      <td>0.0</td>\n      <td>0.0</td>\n      <td>5.0</td>\n    </tr>\n    <tr>\n      <th>108239</th>\n      <td>121</td>\n      <td>23</td>\n      <td>67.0</td>\n      <td>0.0</td>\n      <td>0.0</td>\n      <td>5.0</td>\n    </tr>\n  </tbody>\n</table>\n<p>108240 rows × 6 columns</p>\n</div>"
     },
     "execution_count": 22,
     "metadata": {},
     "output_type": "execute_result"
    }
   ],
   "source": [
    "# Drop the 'initial_available_scooters' column\n",
    "final_df.drop('initial_available_scooters', axis=1, inplace=True)\n",
    "\n",
    "# Set 'available_scooters' to 5 if it's smaller than 0 or NaN\n",
    "final_df['available_scooters'] = final_df['available_scooters'].apply(lambda x: 5 if x < 0 or pd.isna(x) else x)\n",
    "final_df"
   ],
   "metadata": {
    "collapsed": false,
    "ExecuteTime": {
     "end_time": "2023-12-29T15:29:55.723103900Z",
     "start_time": "2023-12-29T15:29:55.628508800Z"
    }
   },
   "id": "59a975cd14b6f9dd"
  },
  {
   "cell_type": "code",
   "execution_count": 23,
   "outputs": [],
   "source": [
    "final_df.to_csv('experiment_data.csv', index=None)"
   ],
   "metadata": {
    "collapsed": false,
    "ExecuteTime": {
     "end_time": "2023-12-29T15:29:57.511580400Z",
     "start_time": "2023-12-29T15:29:57.242674800Z"
    }
   },
   "id": "efb2a4500635cad9"
  },
  {
   "cell_type": "code",
   "execution_count": null,
   "outputs": [],
   "source": [],
   "metadata": {
    "collapsed": false
   },
   "id": "20c264a8cfe14d42"
  }
 ],
 "metadata": {
  "kernelspec": {
   "display_name": "Python 3",
   "language": "python",
   "name": "python3"
  },
  "language_info": {
   "codemirror_mode": {
    "name": "ipython",
    "version": 2
   },
   "file_extension": ".py",
   "mimetype": "text/x-python",
   "name": "python",
   "nbconvert_exporter": "python",
   "pygments_lexer": "ipython2",
   "version": "2.7.6"
  }
 },
 "nbformat": 4,
 "nbformat_minor": 5
}
